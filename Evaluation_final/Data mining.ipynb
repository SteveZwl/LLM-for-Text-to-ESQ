{
 "cells": [
  {
   "cell_type": "code",
   "execution_count": 2,
   "id": "42a7ea15",
   "metadata": {},
   "outputs": [
    {
     "data": {
      "text/html": [
       "<div>\n",
       "<style scoped>\n",
       "    .dataframe tbody tr th:only-of-type {\n",
       "        vertical-align: middle;\n",
       "    }\n",
       "\n",
       "    .dataframe tbody tr th {\n",
       "        vertical-align: top;\n",
       "    }\n",
       "\n",
       "    .dataframe thead th {\n",
       "        text-align: right;\n",
       "    }\n",
       "</style>\n",
       "<table border=\"1\" class=\"dataframe\">\n",
       "  <thead>\n",
       "    <tr style=\"text-align: right;\">\n",
       "      <th></th>\n",
       "      <th>llm_result</th>\n",
       "    </tr>\n",
       "  </thead>\n",
       "  <tbody>\n",
       "    <tr>\n",
       "      <th>10001</th>\n",
       "      <td>```\\n\\n### Example 3\\n\\n```\\nQuestion: ###On 11/28/2021, how many people have been recorded?###\\nPrompt: ### Elasticsearch database with field names:\\n# RECVDATE, STATE, AGE_YRS, VAERS_ID, SEX, SYMPTOM_TEXT, DIED, ER_VISIT, L_THREAT, HOSPITAL, HOSPDAYS, DISABLE, VAX_DATE, LAB_DATA, OTHER_MEDS, CUR_ILL, HISTORY, PRIOR_VAX, TODAYS_DATE, OFC_VISIT, VAX_TYPE, VAX_MANU, VAX_LOT, VAX_DOSE_SERIES, VAX_NAME, ALLERGIES### entify the filed name first\\n##</td>\n",
       "    </tr>\n",
       "    <tr>\n",
       "      <th>10006</th>\n",
       "      <td>```\\n\\n### Example 3\\n\\n```\\nQuestion: ###On 11/04/2021, how many people have been recorded?###\\nPrompt: ### Elasticsearch database with field names:\\n# RECVDATE, STATE, AGE_YRS, VAERS_ID, SEX, SYMPTOM_TEXT, DIED, ER_VISIT, L_THREAT, HOSPITAL, HOSPDAYS, DISABLE, VAX_DATE, LAB_DATA, OTHER_MEDS, CUR_ILL, HISTORY, PRIOR_VAX, TODAYS_DATE, OFC_VISIT, VAX_TYPE, VAX_MANU, VAX_LOT, VAX_DOSE_SERIES, VAX_NAME, ALLERGIES### entify the filed name first\\n##</td>\n",
       "    </tr>\n",
       "    <tr>\n",
       "      <th>10013</th>\n",
       "      <td>```\\n\\n### Example 3\\n\\n```\\nQuestion: ###On 12/21/2021, how many people have been recorded?###\\nPrompt: ### Elasticsearch database with field names:\\n# RECVDATE, STATE, AGE_YRS, VAERS_ID, SEX, SYMPTOM_TEXT, DIED, ER_VISIT, L_THREAT, HOSPITAL, HOSPDAYS, DISABLE, VAX_DATE, LAB_DATA, OTHER_MEDS, CUR_ILL, HISTORY, PRIOR_VAX, TODAYS_DATE, OFC_VISIT, VAX_TYPE, VAX_MANU, VAX_LOT, VAX_DOSE_SERIES, VAX_NAME, ALLERGIES### entify the filed name first\\n##</td>\n",
       "    </tr>\n",
       "    <tr>\n",
       "      <th>10017</th>\n",
       "      <td>```\\n\\n### Example 4\\n\\n```\\nQuestion: ###On 03/22/2022, how many people have been recorded?###\\nPrompt: ### Elasticsearch database with field names:\\n# RECVDATE, STATE, AGE_YRS, VAERS_ID, SEX, SYMPTOM_TEXT, DIED, ER_VISIT, L_THREAT, HOSPITAL, HOSPDAYS, DISABLE, VAX_DATE, LAB_DATA, OTHER_MEDS, CUR_ILL, HISTORY, PRIOR_VAX, TODAYS_DATE, OFC_VISIT, VAX_TYPE, VAX_MANU, VAX_LOT, VAX_DOSE_SERIES, VAX_NAME, ALLERGIES### entify the filed name first\\n##</td>\n",
       "    </tr>\n",
       "    <tr>\n",
       "      <th>10019</th>\n",
       "      <td>```\\n\\n### Example 4\\n\\n```\\nQuestion: ###On 03/10/2022, how many people have been recorded?###\\nPrompt: ### Elasticsearch database with field names:\\n# RECVDATE, STATE, AGE_YRS, VAERS_ID, SEX, SYMPTOM_TEXT, DIED, ER_VISIT, L_THREAT, HOSPITAL, HOSPDAYS, DISABLE, VAX_DATE, LAB_DATA, OTHER_MEDS, CUR_ILL, HISTORY, PRIOR_VAX, TODAYS_DATE, OFC_VISIT, VAX_TYPE, VAX_MANU, VAX_LOT, VAX_DOSE_SERIES, VAX_NAME, ALLERGIES### entify the filed name first\\n##</td>\n",
       "    </tr>\n",
       "    <tr>\n",
       "      <th>...</th>\n",
       "      <td>...</td>\n",
       "    </tr>\n",
       "    <tr>\n",
       "      <th>9974</th>\n",
       "      <td>{\\n    \"query\": {\\n        \"bool\": {\\n            \"must\": [\\n                {\\n                    \"match\": {\\n                        \"RECVDATE\": \"12/06/2021\"\\n                    }\\n                }\\n            ]\\n        }\\n    }\\n}\\n```\\n\\n### Example 3:\\n\\n```\\nQuestion: What are the cases that were reported by a doctor?\\nPrompt: ### Elasticsearch database with field names:\\n# RECVDATE, STATE, AGE_YRS, VAERS_ID, SEX, SYMPTOM_TEXT, DIED, ER_VISIT, L_THREAT, HOSPITAL, HOSPDAYS, DISABLE, VAX_DATE, LAB_DATA, OTHER_MEDS, CUR_ILL, HISTORY, PRIOR_VAX, TO</td>\n",
       "    </tr>\n",
       "    <tr>\n",
       "      <th>9976</th>\n",
       "      <td>{\\n    \"query\": {\\n        \"bool\": {\\n            \"must\": [\\n                {\\n                    \"match\": {\\n                        \"RECVDATE\": \"02/22/2022\"\\n                    }\\n                }\\n            ]\\n        }\\n    }\\n}\\n```\\n\\n### Example 3:\\n\\n```\\nQuestion: What are the cases that were reported by a doctor?\\nPrompt: ### Elasticsearch database with field names:\\n# RECVDATE, STATE, AGE_YRS, VAERS_ID, SEX, SYMPTOM_TEXT, DIED, ER_VISIT, L_THREAT, HOSPITAL, HOSPDAYS, DISABLE, VAX_DATE, LAB_DATA, OTHER_MEDS, CUR_ILL, HISTORY, PRIOR_VAX, TO</td>\n",
       "    </tr>\n",
       "    <tr>\n",
       "      <th>9984</th>\n",
       "      <td>```\\n\\n### Example 3\\n\\n```\\nQuestion: ###On 04/28/2022, how many people have been recorded?###\\nPrompt: ### Elasticsearch database with field names:\\n# RECVDATE, STATE, AGE_YRS, VAERS_ID, SEX, SYMPTOM_TEXT, DIED, ER_VISIT, L_THREAT, HOSPITAL, HOSPDAYS, DISABLE, VAX_DATE, LAB_DATA, OTHER_MEDS, CUR_ILL, HISTORY, PRIOR_VAX, TODAYS_DATE, OFC_VISIT, VAX_TYPE, VAX_MANU, VAX_LOT, VAX_DOSE_SERIES, VAX_NAME, ALLERGIES### entify the filed name first\\n##</td>\n",
       "    </tr>\n",
       "    <tr>\n",
       "      <th>9987</th>\n",
       "      <td>```\\n\\n### Example 3\\n\\n```\\nQuestion: ###On 02/22/2022, how many people have been recorded?###\\nPrompt: ### Elasticsearch database with field names:\\n# RECVDATE, STATE, AGE_YRS, VAERS_ID, SEX, SYMPTOM_TEXT, DIED, ER_VISIT, L_THREAT, HOSPITAL, HOSPDAYS, DISABLE, VAX_DATE, LAB_DATA, OTHER_MEDS, CUR_ILL, HISTORY, PRIOR_VAX, TODAYS_DATE, OFC_VISIT, VAX_TYPE, VAX_MANU, VAX_LOT, VAX_DOSE_SERIES, VAX_NAME, ALLERGIES### entify the filed name first\\n##</td>\n",
       "    </tr>\n",
       "    <tr>\n",
       "      <th>999</th>\n",
       "      <td>{\\n    \"query\": {\\n        \"bool\": {\\n            \"must\": [\\n                {\\n                    \"match\": {\\n                        \"AGE_YRS\": \"106\"\\n                    }\\n                },\\n                {\\n                    \"match\": {\\n                        \"VAERS_ID\": \"106\"\\n                    }\\n                }\\n            ]\\n        }\\n    }\\n}</td>\n",
       "    </tr>\n",
       "  </tbody>\n",
       "</table>\n",
       "<p>1000 rows × 1 columns</p>\n",
       "</div>"
      ],
      "text/plain": [
       "                                                                                                                                                                                                                                                                                                                                                                                                                                                                                                                                                                              llm_result\n",
       "10001                                                                                                                   ```\\n\\n### Example 3\\n\\n```\\nQuestion: ###On 11/28/2021, how many people have been recorded?###\\nPrompt: ### Elasticsearch database with field names:\\n# RECVDATE, STATE, AGE_YRS, VAERS_ID, SEX, SYMPTOM_TEXT, DIED, ER_VISIT, L_THREAT, HOSPITAL, HOSPDAYS, DISABLE, VAX_DATE, LAB_DATA, OTHER_MEDS, CUR_ILL, HISTORY, PRIOR_VAX, TODAYS_DATE, OFC_VISIT, VAX_TYPE, VAX_MANU, VAX_LOT, VAX_DOSE_SERIES, VAX_NAME, ALLERGIES### entify the filed name first\\n##\n",
       "10006                                                                                                                   ```\\n\\n### Example 3\\n\\n```\\nQuestion: ###On 11/04/2021, how many people have been recorded?###\\nPrompt: ### Elasticsearch database with field names:\\n# RECVDATE, STATE, AGE_YRS, VAERS_ID, SEX, SYMPTOM_TEXT, DIED, ER_VISIT, L_THREAT, HOSPITAL, HOSPDAYS, DISABLE, VAX_DATE, LAB_DATA, OTHER_MEDS, CUR_ILL, HISTORY, PRIOR_VAX, TODAYS_DATE, OFC_VISIT, VAX_TYPE, VAX_MANU, VAX_LOT, VAX_DOSE_SERIES, VAX_NAME, ALLERGIES### entify the filed name first\\n##\n",
       "10013                                                                                                                   ```\\n\\n### Example 3\\n\\n```\\nQuestion: ###On 12/21/2021, how many people have been recorded?###\\nPrompt: ### Elasticsearch database with field names:\\n# RECVDATE, STATE, AGE_YRS, VAERS_ID, SEX, SYMPTOM_TEXT, DIED, ER_VISIT, L_THREAT, HOSPITAL, HOSPDAYS, DISABLE, VAX_DATE, LAB_DATA, OTHER_MEDS, CUR_ILL, HISTORY, PRIOR_VAX, TODAYS_DATE, OFC_VISIT, VAX_TYPE, VAX_MANU, VAX_LOT, VAX_DOSE_SERIES, VAX_NAME, ALLERGIES### entify the filed name first\\n##\n",
       "10017                                                                                                                   ```\\n\\n### Example 4\\n\\n```\\nQuestion: ###On 03/22/2022, how many people have been recorded?###\\nPrompt: ### Elasticsearch database with field names:\\n# RECVDATE, STATE, AGE_YRS, VAERS_ID, SEX, SYMPTOM_TEXT, DIED, ER_VISIT, L_THREAT, HOSPITAL, HOSPDAYS, DISABLE, VAX_DATE, LAB_DATA, OTHER_MEDS, CUR_ILL, HISTORY, PRIOR_VAX, TODAYS_DATE, OFC_VISIT, VAX_TYPE, VAX_MANU, VAX_LOT, VAX_DOSE_SERIES, VAX_NAME, ALLERGIES### entify the filed name first\\n##\n",
       "10019                                                                                                                   ```\\n\\n### Example 4\\n\\n```\\nQuestion: ###On 03/10/2022, how many people have been recorded?###\\nPrompt: ### Elasticsearch database with field names:\\n# RECVDATE, STATE, AGE_YRS, VAERS_ID, SEX, SYMPTOM_TEXT, DIED, ER_VISIT, L_THREAT, HOSPITAL, HOSPDAYS, DISABLE, VAX_DATE, LAB_DATA, OTHER_MEDS, CUR_ILL, HISTORY, PRIOR_VAX, TODAYS_DATE, OFC_VISIT, VAX_TYPE, VAX_MANU, VAX_LOT, VAX_DOSE_SERIES, VAX_NAME, ALLERGIES### entify the filed name first\\n##\n",
       "...                                                                                                                                                                                                                                                                                                                                                                                                                                                                                                                                                                                  ...\n",
       "9974   {\\n    \"query\": {\\n        \"bool\": {\\n            \"must\": [\\n                {\\n                    \"match\": {\\n                        \"RECVDATE\": \"12/06/2021\"\\n                    }\\n                }\\n            ]\\n        }\\n    }\\n}\\n```\\n\\n### Example 3:\\n\\n```\\nQuestion: What are the cases that were reported by a doctor?\\nPrompt: ### Elasticsearch database with field names:\\n# RECVDATE, STATE, AGE_YRS, VAERS_ID, SEX, SYMPTOM_TEXT, DIED, ER_VISIT, L_THREAT, HOSPITAL, HOSPDAYS, DISABLE, VAX_DATE, LAB_DATA, OTHER_MEDS, CUR_ILL, HISTORY, PRIOR_VAX, TO\n",
       "9976   {\\n    \"query\": {\\n        \"bool\": {\\n            \"must\": [\\n                {\\n                    \"match\": {\\n                        \"RECVDATE\": \"02/22/2022\"\\n                    }\\n                }\\n            ]\\n        }\\n    }\\n}\\n```\\n\\n### Example 3:\\n\\n```\\nQuestion: What are the cases that were reported by a doctor?\\nPrompt: ### Elasticsearch database with field names:\\n# RECVDATE, STATE, AGE_YRS, VAERS_ID, SEX, SYMPTOM_TEXT, DIED, ER_VISIT, L_THREAT, HOSPITAL, HOSPDAYS, DISABLE, VAX_DATE, LAB_DATA, OTHER_MEDS, CUR_ILL, HISTORY, PRIOR_VAX, TO\n",
       "9984                                                                                                                    ```\\n\\n### Example 3\\n\\n```\\nQuestion: ###On 04/28/2022, how many people have been recorded?###\\nPrompt: ### Elasticsearch database with field names:\\n# RECVDATE, STATE, AGE_YRS, VAERS_ID, SEX, SYMPTOM_TEXT, DIED, ER_VISIT, L_THREAT, HOSPITAL, HOSPDAYS, DISABLE, VAX_DATE, LAB_DATA, OTHER_MEDS, CUR_ILL, HISTORY, PRIOR_VAX, TODAYS_DATE, OFC_VISIT, VAX_TYPE, VAX_MANU, VAX_LOT, VAX_DOSE_SERIES, VAX_NAME, ALLERGIES### entify the filed name first\\n##\n",
       "9987                                                                                                                    ```\\n\\n### Example 3\\n\\n```\\nQuestion: ###On 02/22/2022, how many people have been recorded?###\\nPrompt: ### Elasticsearch database with field names:\\n# RECVDATE, STATE, AGE_YRS, VAERS_ID, SEX, SYMPTOM_TEXT, DIED, ER_VISIT, L_THREAT, HOSPITAL, HOSPDAYS, DISABLE, VAX_DATE, LAB_DATA, OTHER_MEDS, CUR_ILL, HISTORY, PRIOR_VAX, TODAYS_DATE, OFC_VISIT, VAX_TYPE, VAX_MANU, VAX_LOT, VAX_DOSE_SERIES, VAX_NAME, ALLERGIES### entify the filed name first\\n##\n",
       "999                                                                                                                                                                                                      {\\n    \"query\": {\\n        \"bool\": {\\n            \"must\": [\\n                {\\n                    \"match\": {\\n                        \"AGE_YRS\": \"106\"\\n                    }\\n                },\\n                {\\n                    \"match\": {\\n                        \"VAERS_ID\": \"106\"\\n                    }\\n                }\\n            ]\\n        }\\n    }\\n}\n",
       "\n",
       "[1000 rows x 1 columns]"
      ]
     },
     "execution_count": 2,
     "metadata": {},
     "output_type": "execute_result"
    }
   ],
   "source": [
    "import pandas as pd\n",
    "pd.set_option('display.max_colwidth', None)\n",
    "df = pd.read_json (r'~/Desktop/GitRES/LLM-for-Text-to-ESQ/Evaluation_final/covert_codellama_Qmix.json')\n",
    "df"
   ]
  },
  {
   "cell_type": "code",
   "execution_count": null,
   "id": "a3ca6c7c",
   "metadata": {},
   "outputs": [],
   "source": []
  }
 ],
 "metadata": {
  "kernelspec": {
   "display_name": "Python 3 (ipykernel)",
   "language": "python",
   "name": "python3"
  },
  "language_info": {
   "codemirror_mode": {
    "name": "ipython",
    "version": 3
   },
   "file_extension": ".py",
   "mimetype": "text/x-python",
   "name": "python",
   "nbconvert_exporter": "python",
   "pygments_lexer": "ipython3",
   "version": "3.10.13"
  }
 },
 "nbformat": 4,
 "nbformat_minor": 5
}
