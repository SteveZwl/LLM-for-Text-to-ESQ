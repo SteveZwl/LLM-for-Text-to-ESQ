{
 "cells": [
  {
   "cell_type": "code",
   "execution_count": 19,
   "id": "dbc6fddd",
   "metadata": {
    "scrolled": true
   },
   "outputs": [
    {
     "data": {
      "text/plain": [
       "list"
      ]
     },
     "execution_count": 19,
     "metadata": {},
     "output_type": "execute_result"
    }
   ],
   "source": [
    "import pandas as pd\n",
    "pd.set_option('display.max_colwidth', None)\n",
    "df = pd.read_json (r'~/Desktop/GitRES/LLM-for-Text-to-ESQ/Evaluation_final/covert_codellama34b_oriN_1.json')\n",
    "\n",
    "predictions=df['llm_result'].to_string()\n",
    "type(predictions.split())"
   ]
  },
  {
   "cell_type": "code",
   "execution_count": 15,
   "id": "11aaa15d",
   "metadata": {},
   "outputs": [
    {
     "data": {
      "text/plain": [
       "list"
      ]
     },
     "execution_count": 15,
     "metadata": {},
     "output_type": "execute_result"
    }
   ],
   "source": [
    "import pandas as pd\n",
    "df_text = pd.read_csv('Te2Query.csv')\n",
    "eg = df_text.sample(n=1000, random_state=3)\n",
    "input_text = eg['Questions'].to_list()\n",
    "ground_truth = eg['query'].to_string()\n",
    "type(ground_truth.split())\n"
   ]
  },
  {
   "cell_type": "code",
   "execution_count": 20,
   "id": "4688c77d",
   "metadata": {},
   "outputs": [
    {
     "name": "stderr",
     "output_type": "stream",
     "text": [
      "[nltk_data] Downloading package punkt to /home/wenlong/nltk_data...\n",
      "[nltk_data]   Package punkt is already up-to-date!\n"
     ]
    },
    {
     "data": {
      "text/plain": [
       "0.19815429652636468"
      ]
     },
     "execution_count": 20,
     "metadata": {},
     "output_type": "execute_result"
    }
   ],
   "source": [
    "import nltk\n",
    "import pandas as pd\n",
    "from nltk.translate.bleu_score import sentence_bleu\n",
    "from nltk.tokenize import word_tokenize\n",
    "nltk.download('punkt')\n",
    "\n",
    "\n",
    "reference = word_tokenize(ground_truth)\n",
    "hypothesis = word_tokenize(predictions)\n",
    "score = sentence_bleu([reference], hypothesis,weights=(1, 0, 0, 0))\n",
    "score\n",
    "\n",
    "\n",
    "# Example usage\n",
    "# bleu_scores = calculate_bleu_scores(df_reference, df_hypothesis)\n",
    "# print(bleu_scores)\n"
   ]
  },
  {
   "cell_type": "code",
   "execution_count": null,
   "id": "b4c259a6",
   "metadata": {},
   "outputs": [],
   "source": []
  }
 ],
 "metadata": {
  "kernelspec": {
   "display_name": "Python 3 (ipykernel)",
   "language": "python",
   "name": "python3"
  },
  "language_info": {
   "codemirror_mode": {
    "name": "ipython",
    "version": 3
   },
   "file_extension": ".py",
   "mimetype": "text/x-python",
   "name": "python",
   "nbconvert_exporter": "python",
   "pygments_lexer": "ipython3",
   "version": "3.10.13"
  }
 },
 "nbformat": 4,
 "nbformat_minor": 5
}
