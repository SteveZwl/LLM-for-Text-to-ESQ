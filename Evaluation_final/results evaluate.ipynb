{
 "cells": [
  {
   "cell_type": "code",
   "execution_count": 16,
   "id": "c05c8978",
   "metadata": {},
   "outputs": [
    {
     "data": {
      "text/plain": [
       "llm_result    ```\\n\\n### Example 3\\n\\n```\\nQuestion: How man...\n",
       "Name: 10001, dtype: object"
      ]
     },
     "execution_count": 16,
     "metadata": {},
     "output_type": "execute_result"
    }
   ],
   "source": [
    "import csv\n",
    "import pandas as pd\n",
    "\n",
    "df = pd.read_json('~/Desktop/GitRES/LLM-for-Text-to-ESQ/Evaluation_final/covert_codellama_ori_1.json')\n",
    "\n",
    "df.iloc[0]"
   ]
  },
  {
   "cell_type": "code",
   "execution_count": null,
   "id": "3f730f56",
   "metadata": {},
   "outputs": [],
   "source": []
  },
  {
   "cell_type": "code",
   "execution_count": 20,
   "id": "69500b87",
   "metadata": {},
   "outputs": [
    {
     "name": "stderr",
     "output_type": "stream",
     "text": [
      "Warning: Empty candidate sentence detected; setting precision and recall to be 0.\n",
      "Warning: Empty reference sentence detected; setting precision and recall to be 0.\n",
      "Warning: Empty candidate sentence detected; setting precision and recall to be 0.\n",
      "Warning: Empty reference sentence detected; setting precision and recall to be 0.\n",
      "Warning: Empty candidate sentence detected; setting precision and recall to be 0.\n",
      "Warning: Empty reference sentence detected; setting precision and recall to be 0.\n"
     ]
    }
   ],
   "source": [
    "import code_bert_score\n",
    "pred_results = code_bert_score.score(cands=str(df.iloc[0,3]), refs=str(df.iloc[0,4]), lang='python')"
   ]
  },
  {
   "cell_type": "code",
   "execution_count": null,
   "id": "7c135b67",
   "metadata": {},
   "outputs": [],
   "source": []
  }
 ],
 "metadata": {
  "kernelspec": {
   "display_name": "Python 3 (ipykernel)",
   "language": "python",
   "name": "python3"
  },
  "language_info": {
   "codemirror_mode": {
    "name": "ipython",
    "version": 3
   },
   "file_extension": ".py",
   "mimetype": "text/x-python",
   "name": "python",
   "nbconvert_exporter": "python",
   "pygments_lexer": "ipython3",
   "version": "3.10.13"
  }
 },
 "nbformat": 4,
 "nbformat_minor": 5
}
