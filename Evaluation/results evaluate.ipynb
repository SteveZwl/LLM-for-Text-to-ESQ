{
 "cells": [
  {
   "cell_type": "code",
   "execution_count": 17,
   "id": "c05c8978",
   "metadata": {},
   "outputs": [
    {
     "data": {
      "text/plain": [
       "'POST_scripts/1{\"script\":{\"lang\":\"mustache\",\"source\":{\"track_total_hits\":\"true\",\"query\":{\"term\":{\"{{field_1}}\":\"{{value_1}}\"}}},\"params\":{\"field_1\":\\'DATA.RECVDATE\\',\"value_1\":\\'04/13/2022\\'}'"
      ]
     },
     "execution_count": 17,
     "metadata": {},
     "output_type": "execute_result"
    }
   ],
   "source": [
    "import csv\n",
    "import pandas as pd\n",
    "\n",
    "df = pd.read_csv('Te2Query (copy).csv')\n",
    "\n",
    "df.iloc[0,4]"
   ]
  },
  {
   "cell_type": "code",
   "execution_count": 20,
   "id": "69500b87",
   "metadata": {},
   "outputs": [
    {
     "name": "stderr",
     "output_type": "stream",
     "text": [
      "Warning: Empty candidate sentence detected; setting precision and recall to be 0.\n",
      "Warning: Empty reference sentence detected; setting precision and recall to be 0.\n",
      "Warning: Empty candidate sentence detected; setting precision and recall to be 0.\n",
      "Warning: Empty reference sentence detected; setting precision and recall to be 0.\n",
      "Warning: Empty candidate sentence detected; setting precision and recall to be 0.\n",
      "Warning: Empty reference sentence detected; setting precision and recall to be 0.\n"
     ]
    }
   ],
   "source": [
    "import code_bert_score\n",
    "pred_results = code_bert_score.score(cands=str(df.iloc[0,3]), refs=str(df.iloc[0,4]), lang='python')"
   ]
  },
  {
   "cell_type": "code",
   "execution_count": null,
   "id": "7c135b67",
   "metadata": {},
   "outputs": [],
   "source": []
  }
 ],
 "metadata": {
  "kernelspec": {
   "display_name": "Python 3 (ipykernel)",
   "language": "python",
   "name": "python3"
  },
  "language_info": {
   "codemirror_mode": {
    "name": "ipython",
    "version": 3
   },
   "file_extension": ".py",
   "mimetype": "text/x-python",
   "name": "python",
   "nbconvert_exporter": "python",
   "pygments_lexer": "ipython3",
   "version": "3.10.13"
  }
 },
 "nbformat": 4,
 "nbformat_minor": 5
}
