{
 "cells": [
  {
   "cell_type": "code",
   "execution_count": 7,
   "id": "4173d2cd",
   "metadata": {},
   "outputs": [],
   "source": [
    "# from IPython.core.interactiveshell import InteractiveShell\n",
    "# InteractiveShell.ast_node_interactivity = \"all\"\n",
    "import pandas as pd\n",
    "import re\n",
    "# pd.options.display.max_rows\n",
    "# pd.set_option('display.max_colwidth', None)\n",
    "\n",
    "\n",
    "df = pd.read_json (r'covert_PMC_NER_1.json')\n",
    "df_org_text = pd.read_csv('easy.csv')"
   ]
  },
  {
   "cell_type": "code",
   "execution_count": 41,
   "id": "06261b0e",
   "metadata": {},
   "outputs": [
    {
     "data": {
      "text/plain": [
       "10001"
      ]
     },
     "execution_count": 41,
     "metadata": {},
     "output_type": "execute_result"
    }
   ],
   "source": [
    "temp = re.findall(r'\\d+',str(df.iloc[0:1,:]))\n",
    "int(temp[0])"
   ]
  },
  {
   "cell_type": "code",
   "execution_count": 44,
   "id": "c0f1cd10",
   "metadata": {},
   "outputs": [
    {
     "data": {
      "text/plain": [
       "'AGE_YRS'"
      ]
     },
     "execution_count": 44,
     "metadata": {},
     "output_type": "execute_result"
    }
   ],
   "source": [
    "a=df_org_text.iloc[999,3]\n",
    "a"
   ]
  },
  {
   "cell_type": "code",
   "execution_count": 14,
   "id": "21de350e",
   "metadata": {},
   "outputs": [
    {
     "data": {
      "text/plain": [
       "'106.0'"
      ]
     },
     "execution_count": 14,
     "metadata": {},
     "output_type": "execute_result"
    }
   ],
   "source": [
    "new_str = re.sub(r'\\}\\]', '',a)\n",
    "new_str"
   ]
  },
  {
   "cell_type": "code",
   "execution_count": 6,
   "id": "c87f4b6e",
   "metadata": {},
   "outputs": [
    {
     "name": "stdout",
     "output_type": "stream",
     "text": [
      "1\n",
      "0\n"
     ]
    }
   ],
   "source": [
    "value=[]\n",
    "field=[]\n",
    "for i in range(1,1001): \n",
    "    temp = re.findall(r'\\d+',df.iloc[i-1:i,:].to_string())\n",
    "    # id of the test sentence\n",
    "    res = int(temp[0])\n",
    "#    print(res)\n",
    "    #ground truth field\n",
    "    truth_field=df_org_text.iloc[res,3]\n",
    "    #ground truth value\n",
    "    truth_value = re.sub(r'[^\\w]',\"\",df_org_text.iloc[res,12].split()[5])\n",
    "    test_v_data =re.sub(r'[^\\w]',\"\",df.iloc[i-1:i,:].to_string())\n",
    "    test_data=df.iloc[i-1:i,:].to_string()\n",
    "    if truth_value in test_v_data:\n",
    "        value.append(res)\n",
    "#        print(i)\n",
    "    if truth_field in test_data:\n",
    "        field.append(res)\n",
    "print(len(value))\n",
    "print(len(field))"
   ]
  },
  {
   "cell_type": "code",
   "execution_count": 74,
   "id": "8814839e",
   "metadata": {},
   "outputs": [
    {
     "name": "stdout",
     "output_type": "stream",
     "text": [
      "[1010, 10119, 1012, 10127, 1013, 10130, 10138, 10148, 1020, 10215, 10224, 10235, 10292, 1030, 1031, 10315, 10355, 10362, 10391, 10394, 10401, 10406, 1041, 1044, 10451, 10472, 10491, 10503, 10524, 1054, 10566, 10578, 10584, 10595, 10596, 10602, 10607, 10609, 10610, 1065, 10679, 10692, 10700, 1072, 10738, 10762, 10765, 10769, 10780, 10795, 10807, 10828, 10829, 10832, 10857, 1086, 10895, 1093, 10955, 10958, 10968, 1098, 10986, 11002, 11062, 11070, 1109, 11097, 11100, 11119, 11134, 11136, 11173, 11179, 11190, 11205, 11207, 11209, 11214, 11227, 1127, 11286, 11289, 11296, 11303, 11309, 11315, 11348, 1135, 11355, 11360, 11362, 11369, 1137, 11372, 11438, 11460, 11467, 11478, 11487, 115, 11542, 11543, 11548, 11559, 11563, 11578, 1159, 11593, 1160, 1162, 11620, 11621, 11635, 11644, 11649, 11651, 11654, 11691, 1172, 11723, 11724, 11728, 11758, 1177, 11770, 11778, 11801, 11833, 11870, 11874, 11878, 11882, 11886, 11898, 11901, 11904, 11918, 11921, 11934, 11936, 1194, 1195, 11957, 11973, 11999, 12014, 12018, 1204, 12055, 12067, 12069, 1210, 12130, 12164, 12175, 12185, 12201, 12203, 12218, 12282, 12295, 12297, 12306, 12334, 12336, 12345, 12403, 12449, 12506, 12540, 12554, 12571, 12686, 12689, 12748, 12774, 12781, 12806, 12809, 12826, 12838, 12842, 12874, 12879, 12899, 12937, 12963, 12996, 1307, 1349, 136, 1361, 1378, 1379, 1409, 143, 1435, 1452, 1453, 1461, 1506, 1509, 151, 1517, 1519, 1524, 1542, 1553, 1577, 1581, 1604, 1606, 1619, 1627, 1628, 163, 1649, 1663, 1665, 1676, 1740, 1747, 175, 1750, 1773, 1794, 1802, 1817, 182, 1820, 1826, 183, 1831, 1833, 1840, 1873, 1878, 1880, 1886, 1890, 1914, 1941, 199, 1990, 2021, 2049, 2124, 2130, 2156, 2202, 221, 2223, 2254, 2286, 2320, 2350, 236, 2382, 2405, 2408, 2419, 243, 247, 266, 273, 281, 2824, 2826, 2829, 2834, 2836, 2853, 2909, 291, 2952, 2960, 3010, 3027, 3029, 3033, 3036, 3037, 3074, 3091, 3113, 313, 3136, 3152, 3156, 3160, 3164, 3167, 3169, 3170, 3202, 324, 3253, 3258, 3261, 3276, 3277, 3296, 3298, 330, 3315, 3334, 3336, 3340, 3344, 3346, 337, 3376, 3386, 3404, 3421, 3444, 3445, 3491, 3526, 3549, 3557, 3560, 3563, 357, 3601, 3602, 3629, 3645, 3647, 3657, 3679, 3695, 3710, 3717, 3732, 3749, 3767, 3771, 38, 380, 3811, 3815, 382, 3853, 3856, 3861, 3865, 3913, 3916, 3917, 3918, 3924, 3931, 3941, 3959, 3968, 3993, 4014, 4050, 4055, 4065, 4087, 4088, 41, 4112, 4116, 4120, 4127, 4153, 4158, 4169, 4179, 4200, 4201, 448, 456, 466, 47, 4764, 4808, 4862, 4866, 49, 4902, 4912, 4917, 4967, 4972, 4974, 498, 4995, 5007, 5018, 5036, 5052, 5072, 5084, 5086, 5092, 5093, 5114, 5139, 5169, 517, 5177, 520, 5219, 5227, 523, 5231, 5281, 5288, 5323, 533, 5344, 5346, 535, 5355, 536, 5360, 5371, 538, 5381, 542, 5450, 5467, 5509, 5512, 552, 5524, 5599, 5610, 5630, 564, 5654, 5667, 569, 5757, 5764, 5767, 5771, 5790, 5793, 5798, 58, 5806, 5808, 5827, 5842, 5846, 5880, 5885, 5912, 5944, 5959, 5987, 5989, 6005, 6008, 6013, 6024, 6031, 6040, 6053, 6065, 6067, 6072, 6076, 6086, 6092, 6117, 6221, 6249, 6274, 628, 6294, 630, 6321, 6326, 6328, 6329, 6342, 6348, 6401, 6408, 6412, 6452, 6455, 6505, 6568, 6595, 660, 663, 6647, 6658, 6680, 6691, 6735, 6741, 6742, 6754, 6773, 6798, 6804, 6811, 6812, 6821, 6822, 6840, 6842, 6856, 6860, 6921, 6922, 6990, 7018, 7029, 7058, 7064, 7135, 7248, 7251, 7256, 726, 7266, 7269, 7313, 7321, 7332, 7377, 738, 7382, 7393, 7404, 7425, 7441, 7456, 7471, 7474, 7480, 7487, 749, 7499, 75, 7503, 7507, 7523, 7529, 7533, 7542, 7543, 7549, 755, 7556, 7564, 7572, 7599, 760, 7607, 7621, 7633, 7666, 7684, 7699, 771, 7718, 773, 7767, 7771, 7773, 7780, 7796, 7815, 7835, 7846, 7879, 7902, 7918, 7921, 7922, 7930, 7937, 7950, 7961, 7967, 7984, 7996, 8014, 8032, 8048, 8051, 8057, 8066, 8077, 8091, 8104, 812, 8226, 8242, 8261, 8262, 8273, 8287, 830, 8353, 8354, 8367, 8371, 8405, 8406, 8407, 842, 8424, 8425, 8438, 8454, 8479, 8510, 8513, 8538, 8554, 8585, 8590, 8605, 8609, 8619, 8625, 8626, 8638, 8643, 8657, 8664, 8707, 8709, 8720, 8727, 8730, 8742, 879, 8797, 8826, 8857, 89, 8916, 8935, 8936, 8938, 8989, 8992, 8994, 9003, 9004, 9013, 9038, 9044, 905, 9075, 9119, 9132, 9139, 9145, 9149, 9172, 9183, 9185, 9186, 9198, 92, 9201, 9214, 9215, 9229, 9246, 9273, 9319, 9322, 9343, 9349, 9357, 9361, 9382, 9400, 9412, 9419, 9435, 945, 9475, 9479, 948, 9482, 9486, 9492, 9507, 9519, 9520, 9524, 9525, 9536, 9543, 9552, 9557, 9559, 9571, 9579, 9584, 9586, 9597, 9606, 9612, 9632, 9636, 9639, 9647, 965, 9659, 9664, 968, 9681, 9696, 97, 9700, 9712, 9734, 9736, 9744, 9745, 9756, 9759, 9763, 9771, 9778, 9785, 9789, 9790, 9807, 9813, 9843, 9860, 9869, 9877, 988, 9886, 9893, 9949, 9974, 9976, 999]\n",
      "[1010, 1012, 1013, 1016, 1020, 1030, 1031, 10355, 10394, 10401, 10406, 1041, 1044, 10472, 1054, 1065, 1072, 10762, 10795, 10829, 1086, 1093, 1098, 1109, 11097, 11100, 1127, 1135, 1137, 11460, 11467, 11478, 11487, 115, 11542, 11543, 11548, 11563, 1159, 11593, 1160, 1162, 11620, 11621, 11635, 11644, 11649, 11651, 11654, 11691, 1172, 11723, 11724, 11726, 11728, 11758, 1177, 11770, 11778, 11801, 11833, 11848, 11870, 11874, 11878, 11882, 11886, 11889, 11898, 11901, 11904, 11918, 11921, 11923, 11934, 11936, 1194, 1195, 11957, 11973, 11999, 12014, 12015, 12018, 12032, 1204, 12040, 12046, 12055, 12067, 12069, 12070, 12127, 12130, 12164, 12172, 12185, 12201, 12203, 12218, 12282, 136, 1378, 1379, 143, 151, 1553, 1577, 1581, 1604, 1606, 1619, 1626, 1627, 1628, 163, 1649, 1663, 1665, 1668, 1676, 1717, 1736, 1740, 1747, 175, 1750, 1773, 1794, 1802, 1817, 182, 1820, 183, 1831, 1833, 1840, 1862, 1873, 1878, 1886, 1914, 1941, 199, 1990, 2021, 2036, 2049, 2055, 2061, 2124, 2130, 2156, 2202, 221, 2223, 2254, 2262, 2270, 2286, 236, 243, 247, 266, 273, 281, 2824, 2826, 2829, 2834, 2836, 2853, 2909, 291, 2918, 2952, 2960, 3010, 3027, 3029, 3033, 3036, 3037, 3069, 313, 324, 3253, 3258, 3261, 3276, 3277, 3296, 3298, 330, 3315, 3334, 3336, 3340, 3344, 3346, 337, 3376, 3386, 3404, 3421, 3444, 3491, 3526, 3549, 3557, 3560, 3563, 357, 3601, 3602, 3629, 3645, 3647, 38, 380, 382, 41, 448, 456, 466, 47, 49, 498, 5007, 5012, 5052, 5084, 5086, 517, 520, 523, 533, 5344, 535, 5355, 536, 5360, 538, 5381, 542, 552, 5610, 564, 5654, 569, 5757, 5767, 58, 5808, 5846, 628, 630, 660, 663, 702, 709, 711, 714, 716, 7248, 7251, 7256, 7266, 7269, 7279, 7313, 7321, 7332, 7377, 738, 7382, 7393, 7404, 7425, 7441, 7456, 7471, 7474, 7480, 7487, 749, 7499, 75, 7503, 7507, 7523, 7529, 7533, 7542, 7543, 7549, 755, 7556, 7564, 7572, 7599, 760, 7607, 7621, 7633, 7640, 7666, 7684, 7699, 771, 7718, 7726, 773, 7767, 7768, 7771, 7773, 7780, 7782, 7791, 7796, 7815, 7833, 7835, 7846, 812, 830, 842, 879, 89, 905, 92, 933, 945, 948, 965, 968, 97, 988, 989, 999]\n"
     ]
    }
   ],
   "source": [
    "print(value)\n",
    "print(field)"
   ]
  },
  {
   "cell_type": "code",
   "execution_count": 92,
   "id": "6b803ebd",
   "metadata": {},
   "outputs": [
    {
     "data": {
      "text/plain": [
       "'FLU3'"
      ]
     },
     "execution_count": 92,
     "metadata": {},
     "output_type": "execute_result"
    }
   ],
   "source": [
    "a=re.sub(r'[^\\w]',\"\",df_org_text.iloc[10119,12].split()[5])"
   ]
  },
  {
   "cell_type": "code",
   "execution_count": 104,
   "id": "d19c07f4",
   "metadata": {},
   "outputs": [
    {
     "data": {
      "text/plain": [
       "'VAX_TYPE'"
      ]
     },
     "execution_count": 104,
     "metadata": {},
     "output_type": "execute_result"
    }
   ],
   "source": [
    "df_org_text.iloc[10119,3]"
   ]
  },
  {
   "cell_type": "code",
   "execution_count": 107,
   "id": "5571fd2f",
   "metadata": {},
   "outputs": [
    {
     "data": {
      "text/plain": [
       "60"
      ]
     },
     "execution_count": 107,
     "metadata": {},
     "output_type": "execute_result"
    },
    {
     "data": {
      "text/plain": [
       "'llm_result10119nnquerynmatchnVAX_NAMEFLU3nnnnnnClinicalNotesGivemeall'"
      ]
     },
     "execution_count": 107,
     "metadata": {},
     "output_type": "execute_result"
    }
   ],
   "source": [
    "from IPython.core.interactiveshell import InteractiveShell\n",
    "InteractiveShell.ast_node_interactivity = \"all\"\n",
    "pd.options.display.max_rows\n",
    "pd.set_option('display.max_colwidth', None)\n",
    "b=re.sub(r'[^\\w]',\"\",df.iloc[12:13,:].to_string())\n",
    "b\n",
    "# if a in b:\n",
    "#     print(True)"
   ]
  },
  {
   "cell_type": "code",
   "execution_count": null,
   "id": "93b1f8ce",
   "metadata": {},
   "outputs": [],
   "source": [
    "value=[]\n",
    "field=[]\n",
    "for i in range(1,1001): \n",
    "    temp = re.findall(r'\\d+',df.iloc[i-1:i,:].to_string())\n",
    "    # id of the test sentence\n",
    "    res = int(temp[0])\n",
    "#    print(res)\n",
    "    #ground truth field\n",
    "    truth_field=df_org_text.iloc[res,3]\n",
    "    #ground truth value\n",
    "    truth_value = re.sub(r'\\}\\]',\"\",df_org_text.iloc[res,12].split()[5])\n",
    "    test_data=df.iloc[i-1:i,:].to_string()\n",
    "    if truth_value in test_data:\n",
    "        value.append(res)\n",
    "    if truth_field in test_data:\n",
    "        field.append(res)\n",
    "print(len(value))\n",
    "print(len(field))"
   ]
  },
  {
   "cell_type": "code",
   "execution_count": 123,
   "id": "ea358ac8",
   "metadata": {},
   "outputs": [
    {
     "data": {
      "text/plain": [
       "60"
      ]
     },
     "execution_count": 123,
     "metadata": {},
     "output_type": "execute_result"
    },
    {
     "data": {
      "text/html": [
       "<div>\n",
       "<style scoped>\n",
       "    .dataframe tbody tr th:only-of-type {\n",
       "        vertical-align: middle;\n",
       "    }\n",
       "\n",
       "    .dataframe tbody tr th {\n",
       "        vertical-align: top;\n",
       "    }\n",
       "\n",
       "    .dataframe thead th {\n",
       "        text-align: right;\n",
       "    }\n",
       "</style>\n",
       "<table border=\"1\" class=\"dataframe\">\n",
       "  <thead>\n",
       "    <tr style=\"text-align: right;\">\n",
       "      <th></th>\n",
       "      <th>llm_result</th>\n",
       "    </tr>\n",
       "  </thead>\n",
       "  <tbody>\n",
       "    <tr>\n",
       "      <th>10001</th>\n",
       "      <td>Clinical Notes:  On 11/29/2021, how many people have been recorded?\\nAnswer:\\n\\n\\nClinical Notes:  On 11/30/20</td>\n",
       "    </tr>\n",
       "  </tbody>\n",
       "</table>\n",
       "</div>"
      ],
      "text/plain": [
       "                                                                                                           llm_result\n",
       "10001  Clinical Notes:  On 11/29/2021, how many people have been recorded?\\nAnswer:\\n\\n\\nClinical Notes:  On 11/30/20"
      ]
     },
     "execution_count": 123,
     "metadata": {},
     "output_type": "execute_result"
    }
   ],
   "source": [
    "from IPython.core.interactiveshell import InteractiveShell\n",
    "InteractiveShell.ast_node_interactivity = \"all\"\n",
    "pd.options.display.max_rows\n",
    "pd.set_option('display.max_colwidth', None)\n",
    "df.iloc[0:1,:]"
   ]
  },
  {
   "cell_type": "code",
   "execution_count": 36,
   "id": "078edebf",
   "metadata": {},
   "outputs": [
    {
     "name": "stdout",
     "output_type": "stream",
     "text": [
      "The original string :                                                                                                                                      llm_result\n",
      "10001  ```\\n{\\n    \"size\": 0,\\n    \"query\": {\\n        \"match_all\": {}\\n    },\\n    \"aggs\": {\\n        \"count\": {\\n            \"value_count\": {\n",
      "The numbers list is : [10001, 0]\n"
     ]
    }
   ],
   "source": [
    "# import re\n",
    " \n",
    "# # initializing string \n",
    "# test_string = str(df.iloc[:1])\n",
    " \n",
    "# # printing original string \n",
    "# print(\"The original string : \" + test_string)\n",
    " \n",
    "# # getting numbers from string \n",
    "# temp = re.findall(r'\\d+', test_string)\n",
    "# res = list(map(int, temp))\n",
    " \n",
    "# # print result\n",
    "# print(\"The numbers list is : \" + str(res))\n",
    "# df_org_text.iloc[res[0],3]\n",
    "# a=str(df_org_text.iloc[res[0],12]).split()\n",
    "# a\n",
    "# a[5]\n",
    "# import re\n",
    "# my_string = a[5]\n",
    "# my_new_string = re.sub('[^\\w]',\"\",my_string)\n",
    "# print(my_new_string)\n",
    "# test_data=re.sub('[^\\w]',\"\",str(df.iloc[:1]))\n",
    "# test_data\n",
    "# recored=[]\n",
    "# if my_new_string in test_data:\n",
    "#     recored.append(res[0])"
   ]
  },
  {
   "cell_type": "code",
   "execution_count": null,
   "id": "a11409d2",
   "metadata": {},
   "outputs": [],
   "source": []
  }
 ],
 "metadata": {
  "kernelspec": {
   "display_name": "Python 3 (ipykernel)",
   "language": "python",
   "name": "python3"
  },
  "language_info": {
   "codemirror_mode": {
    "name": "ipython",
    "version": 3
   },
   "file_extension": ".py",
   "mimetype": "text/x-python",
   "name": "python",
   "nbconvert_exporter": "python",
   "pygments_lexer": "ipython3",
   "version": "3.10.13"
  }
 },
 "nbformat": 4,
 "nbformat_minor": 5
}
